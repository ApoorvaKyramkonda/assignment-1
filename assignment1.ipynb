{
 "cells": [
  {
   "cell_type": "code",
   "execution_count": 30,
   "id": "f071b998",
   "metadata": {},
   "outputs": [
    {
     "name": "stdout",
     "output_type": "stream",
     "text": [
      "sorted list is [19, 19, 20, 22, 24, 24, 24, 25, 25, 26]\n",
      "minimum age is 19\n",
      "maximum age is 26\n"
     ]
    }
   ],
   "source": [
    "\n",
    "#QUESTION1 \n",
    "\n",
    "ages =[19,22,19,24,20,25,26,24,25,24]\n",
    "\n",
    "#sort the list and find the min and max age\n",
    "s=sorted(ages)\n",
    "print (\"sorted list is\",s)\n",
    "a=min(ages)\n",
    "b=max(ages)\n",
    "print(\"minimum age is\",a)\n",
    "print(\"maximum age is\",b)"
   ]
  },
  {
   "cell_type": "code",
   "execution_count": 3,
   "id": "1d1ebfd1",
   "metadata": {},
   "outputs": [
    {
     "name": "stdout",
     "output_type": "stream",
     "text": [
      "[19, 22, 19, 24, 20, 25, 26, 24, 25, 24, 19, 19, 26]\n"
     ]
    }
   ],
   "source": [
    "#add the min age and the max age again to the list\n",
    "s.append(a)\n",
    "s.append(b)\n",
    "print(s)"
   ]
  },
  {
   "cell_type": "code",
   "execution_count": 29,
   "id": "262831bd",
   "metadata": {},
   "outputs": [
    {
     "name": "stdout",
     "output_type": "stream",
     "text": [
      "7\n",
      "median  age is 26\n"
     ]
    }
   ],
   "source": [
    "#find the median age(one middle item or two middle items divided by two)\n",
    "l=len(s);\n",
    "m=int((l+1)/2);\n",
    "print (m)\n",
    "print(\"median  age is\",ages[m-1])\n",
    "    "
   ]
  },
  {
   "cell_type": "code",
   "execution_count": 32,
   "id": "25cca482",
   "metadata": {},
   "outputs": [
    {
     "name": "stdout",
     "output_type": "stream",
     "text": [
      "average age is 17.53846153846154\n"
     ]
    }
   ],
   "source": [
    "#Find the average age (sum of all items divided by their number)\n",
    "avg=sum(s)/l\n",
    "print(\"average age is\",avg)"
   ]
  },
  {
   "cell_type": "code",
   "execution_count": 36,
   "id": "49997550",
   "metadata": {},
   "outputs": [
    {
     "name": "stdout",
     "output_type": "stream",
     "text": [
      "range of ages is 7\n"
     ]
    }
   ],
   "source": [
    "#find the range of the ages\n",
    "range=b-a\n",
    "print(\"range of ages is\",range)"
   ]
  },
  {
   "cell_type": "code",
   "execution_count": 40,
   "id": "57e3ec0d",
   "metadata": {},
   "outputs": [
    {
     "name": "stdout",
     "output_type": "stream",
     "text": [
      "{}\n"
     ]
    }
   ],
   "source": [
    "#QUESTION 2\n",
    "\n",
    "#create an empty dictionary called dog\n",
    "\n",
    "dog={}\n",
    "print(dog)\n",
    "\n",
    "\n",
    "\n"
   ]
  },
  {
   "cell_type": "code",
   "execution_count": 41,
   "id": "df32e1ae",
   "metadata": {},
   "outputs": [
    {
     "name": "stdout",
     "output_type": "stream",
     "text": [
      "{'name': 'Bruno', 'color': 'Black', 'Breed': 'Retreiver', 'legs': '4', 'age': '7'}\n"
     ]
    }
   ],
   "source": [
    "#add name,color,breed,legs,age to the dog dictionary\n",
    "dog.update({'name':'Bruno','color':'Black','Breed':'Retreiver','legs':'4','age':'7'})\n",
    "print(dog)"
   ]
  },
  {
   "cell_type": "code",
   "execution_count": 46,
   "id": "8a04f16f",
   "metadata": {},
   "outputs": [
    {
     "name": "stdout",
     "output_type": "stream",
     "text": [
      "{'first_name': 'Apoorva', 'last_name': 'Kyramkonda', 'gender': 'F', 'age': '21', 'marital status': 'unmarried', 'skills': ['Java', 'HTML', 'DBMS'], 'country': 'USA', 'city': 'Centerton', 'address': 'PiperLn'}\n"
     ]
    }
   ],
   "source": [
    "#create a student dictionary and add first_name , last_name, gender ,age, marital status,skills,counrty,city and addredd as keys for the dictionary\n",
    "student={}\n",
    "student={'first_name':'Apoorva','last_name':'Kyramkonda','gender':'F','age':'21','marital status':'unmarried','skills':['Java','HTML','DBMS'],'country':'USA','city': 'Centerton', 'address' : 'PiperLn'}\n",
    "print(student)\n"
   ]
  },
  {
   "cell_type": "code",
   "execution_count": 47,
   "id": "b6dd8853",
   "metadata": {},
   "outputs": [
    {
     "name": "stdout",
     "output_type": "stream",
     "text": [
      "9\n"
     ]
    }
   ],
   "source": [
    "#get the length of student dictionary\n",
    "print(len(student))"
   ]
  },
  {
   "cell_type": "code",
   "execution_count": 57,
   "id": "417dfd9c",
   "metadata": {},
   "outputs": [
    {
     "name": "stdout",
     "output_type": "stream",
     "text": [
      "['Java', 'HTML', 'DBMS', 'C++'] <class 'list'>\n"
     ]
    }
   ],
   "source": [
    "#get the value of skills and check the data type,it should be a list\n",
    "s=list(student)\n",
    "print(student.get('skills'),type(s))"
   ]
  },
  {
   "cell_type": "code",
   "execution_count": 58,
   "id": "0aa20ae8",
   "metadata": {},
   "outputs": [
    {
     "name": "stdout",
     "output_type": "stream",
     "text": [
      "{'first_name': 'Apoorva', 'last_name': 'Kyramkonda', 'gender': 'F', 'age': '21', 'marital status': 'unmarried', 'skills': ['Java', 'HTML', 'DBMS', 'C++', 'C++'], 'country': 'USA', 'city': 'Centerton', 'address': 'PiperLn'}\n"
     ]
    }
   ],
   "source": [
    "#modify the skills values by adding 1 or 2 strings\n",
    "student['skills'].append('C++')\n",
    "print(student)"
   ]
  },
  {
   "cell_type": "code",
   "execution_count": 59,
   "id": "200f68a1",
   "metadata": {},
   "outputs": [
    {
     "name": "stdout",
     "output_type": "stream",
     "text": [
      "dict_keys(['first_name', 'last_name', 'gender', 'age', 'marital status', 'skills', 'country', 'city', 'address'])\n"
     ]
    }
   ],
   "source": [
    "#get the dictionary keys as a list\n",
    "keys=student.keys()\n",
    "print(keys)"
   ]
  },
  {
   "cell_type": "code",
   "execution_count": 60,
   "id": "5bc8a889",
   "metadata": {},
   "outputs": [
    {
     "name": "stdout",
     "output_type": "stream",
     "text": [
      "dict_values(['Apoorva', 'Kyramkonda', 'F', '21', 'unmarried', ['Java', 'HTML', 'DBMS', 'C++', 'C++'], 'USA', 'Centerton', 'PiperLn'])\n"
     ]
    }
   ],
   "source": [
    "#get the dictionary values as a list\n",
    "values=student.values()\n",
    "print(values)"
   ]
  },
  {
   "cell_type": "code",
   "execution_count": 61,
   "id": "3e2f2716",
   "metadata": {},
   "outputs": [
    {
     "name": "stdout",
     "output_type": "stream",
     "text": [
      "('Sweety', 'Sonu', 'Sanju')\n",
      "('Sunny', 'Abhinav', 'Punya')\n"
     ]
    }
   ],
   "source": [
    "#QUESTION 3\n",
    "\n",
    "#create a tuple containing names of your sisters and your brothers\n",
    "tsisters=('Sweety','Sonu','Sanju')\n",
    "tbrothers=('Sunny','Abhinav','Punya')\n",
    "print(tsisters)\n",
    "print(tbrothers)"
   ]
  },
  {
   "cell_type": "code",
   "execution_count": 63,
   "id": "565377ae",
   "metadata": {},
   "outputs": [
    {
     "name": "stdout",
     "output_type": "stream",
     "text": [
      "('Sweety', 'Sonu', 'Sanju', 'Sunny', 'Abhinav', 'Punya')\n"
     ]
    }
   ],
   "source": [
    "#join brothers and sisters tuples and assign it to siblings\n",
    "tsiblings=tsisters+tbrothers\n",
    "print(tsiblings)"
   ]
  },
  {
   "cell_type": "code",
   "execution_count": 65,
   "id": "bc3cd355",
   "metadata": {},
   "outputs": [
    {
     "name": "stdout",
     "output_type": "stream",
     "text": [
      "6\n"
     ]
    }
   ],
   "source": [
    "#how many siblings do you have\n",
    "print(len(tsiblings))"
   ]
  },
  {
   "cell_type": "code",
   "execution_count": 110,
   "id": "2e32c2a8",
   "metadata": {},
   "outputs": [
    {
     "ename": "AttributeError",
     "evalue": "'tuple' object has no attribute 'append'",
     "output_type": "error",
     "traceback": [
      "\u001b[1;31m---------------------------------------------------------------------------\u001b[0m",
      "\u001b[1;31mAttributeError\u001b[0m                            Traceback (most recent call last)",
      "Input \u001b[1;32mIn [110]\u001b[0m, in \u001b[0;36m<cell line: 2>\u001b[1;34m()\u001b[0m\n\u001b[0;32m      1\u001b[0m \u001b[38;5;66;03m#modify the siblings tuple and add the name of your father and mother and assign it to family_members\u001b[39;00m\n\u001b[1;32m----> 2\u001b[0m tfamily_members\u001b[38;5;241m=\u001b[39m\u001b[43mtsiblings\u001b[49m\u001b[38;5;241;43m.\u001b[39;49m\u001b[43mappend\u001b[49m(\u001b[38;5;124m'\u001b[39m\u001b[38;5;124mmadhu\u001b[39m\u001b[38;5;124m'\u001b[39m,\u001b[38;5;124m'\u001b[39m\u001b[38;5;124mlaxmi\u001b[39m\u001b[38;5;124m'\u001b[39m)\n\u001b[0;32m      3\u001b[0m \u001b[38;5;28mprint\u001b[39m(tfamily_members)\n",
      "\u001b[1;31mAttributeError\u001b[0m: 'tuple' object has no attribute 'append'"
     ]
    }
   ],
   "source": [
    "#modify the siblings tuple and add the name of your father and mother and assign it to family_members\n",
    "tfamily_members=tsiblings.append('madhu','laxmi')\n",
    "print(tfamily_members)\n",
    "\n",
    "\n",
    "#there is an error as tuple is immutable"
   ]
  },
  {
   "cell_type": "code",
   "execution_count": 67,
   "id": "cffefd83",
   "metadata": {},
   "outputs": [
    {
     "name": "stdout",
     "output_type": "stream",
     "text": [
      "7\n"
     ]
    }
   ],
   "source": [
    "#QUESTION 4\n",
    "\n",
    "it_companies={'Facebook','Google','Microsoft','Apple','IBM','Oracle','Amazon'}\n",
    "A={19,22,24,20,25,26}\n",
    "B={19,22,20,25,26,24,28,27}\n",
    "age=[22,19,24,25,26,24,25,24]\n",
    "\n",
    "#find the length of the set it_companies\n",
    "print(len(it_companies))"
   ]
  },
  {
   "cell_type": "code",
   "execution_count": 68,
   "id": "41fa347a",
   "metadata": {},
   "outputs": [
    {
     "name": "stdout",
     "output_type": "stream",
     "text": [
      "{'IBM', 'Google', 'Oracle', 'Amazon', 'Apple', 'Twitter', 'Facebook', 'Microsoft'}\n"
     ]
    }
   ],
   "source": [
    "#add 'Twitter' to it_companies\n",
    "it_companies.add('Twitter')\n",
    "print(it_companies)"
   ]
  },
  {
   "cell_type": "code",
   "execution_count": 69,
   "id": "2f65ea4d",
   "metadata": {},
   "outputs": [
    {
     "name": "stdout",
     "output_type": "stream",
     "text": [
      "{'Microsoft', 'Instagram', 'IBM', 'Facebook', 'Google', 'Oracle', 'Twitter', 'Amazon', 'Apple', 'Snapchat'}\n"
     ]
    }
   ],
   "source": [
    "#insert multiple IT companies at once to the set it_companies\n",
    "it_companies.update(['Twitter','Instagram','Snapchat'])\n",
    "print(it_companies)"
   ]
  },
  {
   "cell_type": "code",
   "execution_count": 70,
   "id": "23b31900",
   "metadata": {},
   "outputs": [
    {
     "name": "stdout",
     "output_type": "stream",
     "text": [
      "{'Microsoft', 'Instagram', 'IBM', 'Facebook', 'Google', 'Oracle', 'Twitter', 'Amazon', 'Apple'}\n"
     ]
    }
   ],
   "source": [
    "#remove one of the companies from the set it_companies\n",
    "it_companies.remove('Snapchat')\n",
    "print(it_companies)"
   ]
  },
  {
   "cell_type": "code",
   "execution_count": 71,
   "id": "18342609",
   "metadata": {},
   "outputs": [
    {
     "ename": "KeyError",
     "evalue": "'Whatsapp'",
     "output_type": "error",
     "traceback": [
      "\u001b[1;31m---------------------------------------------------------------------------\u001b[0m",
      "\u001b[1;31mKeyError\u001b[0m                                  Traceback (most recent call last)",
      "Input \u001b[1;32mIn [71]\u001b[0m, in \u001b[0;36m<cell line: 3>\u001b[1;34m()\u001b[0m\n\u001b[0;32m      1\u001b[0m \u001b[38;5;66;03m#what is the difference btween remove and discard\u001b[39;00m\n\u001b[1;32m----> 3\u001b[0m \u001b[43mit_companies\u001b[49m\u001b[38;5;241;43m.\u001b[39;49m\u001b[43mremove\u001b[49m\u001b[43m(\u001b[49m\u001b[38;5;124;43m'\u001b[39;49m\u001b[38;5;124;43mWhatsapp\u001b[39;49m\u001b[38;5;124;43m'\u001b[39;49m\u001b[43m)\u001b[49m\n\u001b[0;32m      4\u001b[0m \u001b[38;5;28mprint\u001b[39m(it_companies)\n",
      "\u001b[1;31mKeyError\u001b[0m: 'Whatsapp'"
     ]
    }
   ],
   "source": [
    "#what is the difference btween remove and discard\n",
    "\n",
    "it_companies.remove('Whatsapp')\n",
    "print(it_companies)\n",
    "\n",
    "#remove attribute shows an error if the item to be removed is not present in  the list"
   ]
  },
  {
   "cell_type": "code",
   "execution_count": 73,
   "id": "585811f0",
   "metadata": {},
   "outputs": [
    {
     "name": "stdout",
     "output_type": "stream",
     "text": [
      "{'Microsoft', 'Instagram', 'IBM', 'Facebook', 'Google', 'Oracle', 'Twitter', 'Amazon', 'Apple'}\n"
     ]
    }
   ],
   "source": [
    "it_companies.discard('whatsapp')\n",
    "print(it_companies)\n",
    "\n",
    "#discard attribute doesnot show any error if the item to be removed is not present in the list"
   ]
  },
  {
   "cell_type": "code",
   "execution_count": 74,
   "id": "02a797a7",
   "metadata": {},
   "outputs": [
    {
     "name": "stdout",
     "output_type": "stream",
     "text": [
      "{19, 20, 22, 24, 25, 26, 27, 28}\n"
     ]
    }
   ],
   "source": [
    "#join A and B\n",
    "C=A.union(B)\n",
    "print(C)"
   ]
  },
  {
   "cell_type": "code",
   "execution_count": 75,
   "id": "c9ff30b6",
   "metadata": {},
   "outputs": [
    {
     "name": "stdout",
     "output_type": "stream",
     "text": [
      "{19, 20, 22, 24, 25, 26}\n"
     ]
    }
   ],
   "source": [
    "#find A intersection B\n",
    "print(A.intersection(B))"
   ]
  },
  {
   "cell_type": "code",
   "execution_count": 76,
   "id": "3c9dfd2b",
   "metadata": {},
   "outputs": [
    {
     "name": "stdout",
     "output_type": "stream",
     "text": [
      "False\n"
     ]
    }
   ],
   "source": [
    "#is A subset of B\n",
    "print(B.issubset(A))"
   ]
  },
  {
   "cell_type": "code",
   "execution_count": 77,
   "id": "7141eaa5",
   "metadata": {},
   "outputs": [
    {
     "name": "stdout",
     "output_type": "stream",
     "text": [
      "False\n"
     ]
    }
   ],
   "source": [
    "#are A and B disjoint sets\n",
    "print(B.isdisjoint(A))"
   ]
  },
  {
   "cell_type": "code",
   "execution_count": 78,
   "id": "72c01163",
   "metadata": {},
   "outputs": [
    {
     "name": "stdout",
     "output_type": "stream",
     "text": [
      "{27, 28}\n"
     ]
    }
   ],
   "source": [
    "#what is the symmetric difference between A and B\n",
    "print(B.symmetric_difference(A))"
   ]
  },
  {
   "cell_type": "code",
   "execution_count": 79,
   "id": "1f06431a",
   "metadata": {},
   "outputs": [
    {
     "name": "stdout",
     "output_type": "stream",
     "text": [
      "{19, 22, 24, 25, 26}\n"
     ]
    }
   ],
   "source": [
    "#convert the ages to a set and compare the length of the list and the set\n",
    "st=set(age)\n",
    "print(st)"
   ]
  },
  {
   "cell_type": "code",
   "execution_count": 81,
   "id": "71a461aa",
   "metadata": {},
   "outputs": [
    {
     "name": "stdout",
     "output_type": "stream",
     "text": [
      "set()\n"
     ]
    }
   ],
   "source": [
    "#delete the sets completey\n",
    "A.clear()\n",
    "print(A)"
   ]
  },
  {
   "cell_type": "code",
   "execution_count": 82,
   "id": "a2f7b601",
   "metadata": {},
   "outputs": [
    {
     "name": "stdout",
     "output_type": "stream",
     "text": [
      "2826.0\n"
     ]
    }
   ],
   "source": [
    "#QUESTION 5\n",
    "\n",
    "#calculate the area of a circle and assign the value to a  variable name of _area_of_circle_\n",
    "r=30\n",
    "_area_of_circle_=3.14*r**2\n",
    "print (_area_of_circle_)\n"
   ]
  },
  {
   "cell_type": "code",
   "execution_count": 83,
   "id": "402fed27",
   "metadata": {},
   "outputs": [
    {
     "name": "stdout",
     "output_type": "stream",
     "text": [
      "188.4\n"
     ]
    }
   ],
   "source": [
    "# calculate the circumference of a circle and assign the value to a variable name of _circum_of_circle_\n",
    "\n",
    "_circum_of_circle_ = 2*3.14*r\n",
    "print(_circum_of_circle_)"
   ]
  },
  {
   "cell_type": "code",
   "execution_count": 96,
   "id": "1094e605",
   "metadata": {},
   "outputs": [
    {
     "name": "stdout",
     "output_type": "stream",
     "text": [
      "enter radius 5\n",
      "78.5\n"
     ]
    }
   ],
   "source": [
    "# Take radius as user input and calculate the area\n",
    "a=int(input(\"enter radius \"))\n",
    "area = 3.14*a*a\n",
    "print(area)"
   ]
  },
  {
   "cell_type": "code",
   "execution_count": 97,
   "id": "d5ff8750",
   "metadata": {},
   "outputs": [
    {
     "name": "stdout",
     "output_type": "stream",
     "text": [
      "10\n"
     ]
    }
   ],
   "source": [
    "#QUESTION 6\n",
    "\n",
    "# How many unique words have been used in the sentence? Use the split methods and set to get the unique words\n",
    "str=\"I am a teacher and I love to inspire and teach people\"\n",
    "words = set(str.split(\" \"))\n",
    "print(len(words))"
   ]
  },
  {
   "cell_type": "code",
   "execution_count": 98,
   "id": "c1b2c1b9",
   "metadata": {},
   "outputs": [
    {
     "name": "stdout",
     "output_type": "stream",
     "text": [
      "Name\tAge\tCountry\tCity\n",
      "Asabench\t250\tFinland\tHelsinki\n"
     ]
    }
   ],
   "source": [
    "#QUESTION 7\n",
    "\n",
    "# Use a tab escape sequence to get the following lines\n",
    "# Name   Age   Country  City\n",
    "# Asabench   250   Finland  Helsinki\n",
    "text=\"Name\\tAge\\tCountry\\tCity\\nAsabench\\t250\\tFinland\\tHelsinki\"\n",
    "print(text)"
   ]
  },
  {
   "cell_type": "code",
   "execution_count": 106,
   "id": "02828135",
   "metadata": {},
   "outputs": [
    {
     "name": "stdout",
     "output_type": "stream",
     "text": [
      "\"The area of a circle with radius 10 is 314.0 meters square\"\n"
     ]
    }
   ],
   "source": [
    "#QUESTION 8\n",
    "\n",
    "# Use the string formatting method to display the following\n",
    "# \"The area of a circle with radius 10 is 314 meters square\"\n",
    "\n",
    "radius = 10\n",
    "area = 3.14*radius**2\n",
    "string=\"\\\"The area of a circle with radius {} is {} meters square\\\"\"\n",
    "print(string.format(radius,area))"
   ]
  },
  {
   "cell_type": "code",
   "execution_count": 6,
   "id": "02b8b928",
   "metadata": {},
   "outputs": [
    {
     "name": "stdout",
     "output_type": "stream",
     "text": [
      "No of Students: 4\n",
      "150\n",
      "155\n",
      "145\n",
      "148\n",
      "[68.04, 70.31, 65.77, 67.13]\n"
     ]
    }
   ],
   "source": [
    "#QUESTION 9\n",
    "\n",
    "# Write a program which reads weight (lbs.) of N students into a list and convert these weights to kilograms in a separate list using Loop N: No of students (Read input from user)\n",
    "\n",
    "studentsCount=int(input(\"No of Students: \"))\n",
    "weightInLbs = []\n",
    "for num in range(studentsCount):\n",
    "    weightInLbs.append(int(input()))\n",
    "\n",
    "weightInKgs = []\n",
    "for weigh in weightInLbs:\n",
    "    weightInKgs.append(round(weigh*0.453592, 2))\n",
    "    \n",
    "print(weightInKgs)\n"
   ]
  },
  {
   "cell_type": "code",
   "execution_count": null,
   "id": "68787f70",
   "metadata": {},
   "outputs": [],
   "source": []
  },
  {
   "cell_type": "code",
   "execution_count": null,
   "id": "121c6e68",
   "metadata": {},
   "outputs": [],
   "source": []
  }
 ],
 "metadata": {
  "kernelspec": {
   "display_name": "Python 3 (ipykernel)",
   "language": "python",
   "name": "python3"
  },
  "language_info": {
   "codemirror_mode": {
    "name": "ipython",
    "version": 3
   },
   "file_extension": ".py",
   "mimetype": "text/x-python",
   "name": "python",
   "nbconvert_exporter": "python",
   "pygments_lexer": "ipython3",
   "version": "3.10.6"
  }
 },
 "nbformat": 4,
 "nbformat_minor": 5
}
